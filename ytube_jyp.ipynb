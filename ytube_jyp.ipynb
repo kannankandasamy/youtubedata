{
 "cells": [
  {
   "cell_type": "code",
   "execution_count": 1,
   "metadata": {},
   "outputs": [
    {
     "name": "stdout",
     "output_type": "stream",
     "text": [
      "hello world\n"
     ]
    }
   ],
   "source": [
    "print(\"hello world\")"
   ]
  },
  {
   "cell_type": "code",
   "execution_count": 34,
   "metadata": {},
   "outputs": [],
   "source": [
    "import googleapiclient.discovery\n",
    "import configparser"
   ]
  },
  {
   "cell_type": "code",
   "execution_count": 35,
   "metadata": {},
   "outputs": [],
   "source": [
    "def get_data_config():\n",
    "    conf = {}\n",
    "    cfg = configparser.ConfigParser()\n",
    "    cfg.read('data.conf')\n",
    "    for (key,val) in cfg.items('DATA_APP_CONFIGS'):\n",
    "        conf[key]=val\n",
    "    return conf"
   ]
  },
  {
   "cell_type": "code",
   "execution_count": 36,
   "metadata": {},
   "outputs": [],
   "source": [
    "conf = get_data_config()\n",
    "api_key = conf['api_key']"
   ]
  },
  {
   "cell_type": "code",
   "execution_count": null,
   "metadata": {},
   "outputs": [],
   "source": [
    "print(api_key)"
   ]
  },
  {
   "cell_type": "code",
   "execution_count": 38,
   "metadata": {},
   "outputs": [],
   "source": [
    "def get_api_connection(api_key):\n",
    "    api_service_name = \"youtube\"\n",
    "    api_version = \"v3\"\n",
    "    youtube = googleapiclient.discovery.build(api_service_name, api_version, developerKey=api_key)\n",
    "    return youtube\n",
    "\n",
    "\n",
    "youtube = get_api_connection(api_key)"
   ]
  },
  {
   "cell_type": "code",
   "execution_count": 39,
   "metadata": {},
   "outputs": [
    {
     "name": "stdout",
     "output_type": "stream",
     "text": [
      "<googleapiclient.discovery.Resource object at 0x000001F2DD141090>\n"
     ]
    }
   ],
   "source": [
    "print(youtube)"
   ]
  },
  {
   "cell_type": "code",
   "execution_count": 19,
   "metadata": {},
   "outputs": [],
   "source": [
    "channel_id = \"UCpSLfHgOlcSBlkxRnMKcnVw\"\n",
    "request = youtube.channels().list(\n",
    "    part=\"snippet,contentDetails,statistics\",\n",
    "    id=channel_id\n",
    ")\n",
    "response = request.execute()"
   ]
  },
  {
   "cell_type": "code",
   "execution_count": null,
   "metadata": {},
   "outputs": [],
   "source": [
    "response['items'][0]"
   ]
  },
  {
   "cell_type": "code",
   "execution_count": 41,
   "metadata": {},
   "outputs": [
    {
     "name": "stdout",
     "output_type": "stream",
     "text": [
      "{'channel_name': 'Ilaya Bharatham-இளைய பாரதம் ', 'channel_id': 'UCpSLfHgOlcSBlkxRnMKcnVw', 'channel_custom_url': '@ilayabharatham', 'video_count': '2758', 'view_count': '90710087', 'subscriber_count': '261000', 'channel_description': 'The channel deals with current events in India and across the globe with an indic perspective.', 'playlist_id': 'UUpSLfHgOlcSBlkxRnMKcnVw'}\n"
     ]
    }
   ],
   "source": [
    "for i in response['items']:\n",
    "    data = dict(channel_name=i['snippet']['title'],\n",
    "                channel_id=i['id'],\n",
    "                channel_custom_url=i['snippet']['customUrl'],\n",
    "                video_count=i['statistics']['videoCount'],\n",
    "                view_count=i['statistics']['viewCount'],\n",
    "                subscriber_count=i['statistics']['subscriberCount'],\n",
    "                channel_description=i['snippet']['description'],\n",
    "                playlist_id=i['contentDetails']['relatedPlaylists']['uploads'],\n",
    "                )\n",
    "    print(data)"
   ]
  },
  {
   "cell_type": "code",
   "execution_count": 42,
   "metadata": {},
   "outputs": [
    {
     "data": {
      "text/plain": [
       "{'channel_name': 'Ilaya Bharatham-இளைய பாரதம் ',\n",
       " 'channel_id': 'UCpSLfHgOlcSBlkxRnMKcnVw',\n",
       " 'channel_custom_url': '@ilayabharatham',\n",
       " 'video_count': '2758',\n",
       " 'view_count': '90710087',\n",
       " 'subscriber_count': '261000',\n",
       " 'channel_description': 'The channel deals with current events in India and across the globe with an indic perspective.',\n",
       " 'playlist_id': 'UUpSLfHgOlcSBlkxRnMKcnVw'}"
      ]
     },
     "execution_count": 42,
     "metadata": {},
     "output_type": "execute_result"
    }
   ],
   "source": [
    "data"
   ]
  },
  {
   "cell_type": "code",
   "execution_count": 48,
   "metadata": {},
   "outputs": [],
   "source": [
    "def get_channel_details(youtube, channel_id):\n",
    "    #channel_id = \"UCpSLfHgOlcSBlkxRnMKcnVw\"\n",
    "    request = youtube.channels().list(\n",
    "        part=\"snippet,contentDetails,statistics\",\n",
    "        id=channel_id\n",
    "    )\n",
    "    response = request.execute()\n",
    "    for i in response['items']:\n",
    "        data = dict(channel_name=i['snippet']['title'],\n",
    "                    channel_id=i['id'],\n",
    "                    channel_custom_url=i['snippet']['customUrl'],\n",
    "                    video_count=i['statistics']['videoCount'],\n",
    "                    view_count=i['statistics']['viewCount'],\n",
    "                    subscriber_count=i['statistics']['subscriberCount'],\n",
    "                    channel_description=i['snippet']['description'],\n",
    "                    playlist_id=i['contentDetails']['relatedPlaylists']['uploads'],\n",
    "                    )    \n",
    "    return data\n",
    "\n",
    "    "
   ]
  },
  {
   "cell_type": "code",
   "execution_count": 49,
   "metadata": {},
   "outputs": [],
   "source": [
    "channel_details = get_channel_details(youtube, \"UCDjEYBdbvu-1DpWukvNu8vA\")\n",
    "#other channelid \n",
    "#UCDjEYBdbvu-1DpWukvNu8vA\n"
   ]
  },
  {
   "cell_type": "code",
   "execution_count": 50,
   "metadata": {},
   "outputs": [
    {
     "data": {
      "text/plain": [
       "{'channel_name': 'Arthi Prem',\n",
       " 'channel_id': 'UCDjEYBdbvu-1DpWukvNu8vA',\n",
       " 'channel_custom_url': '@arthiprem',\n",
       " 'video_count': '524',\n",
       " 'view_count': '11707430',\n",
       " 'subscriber_count': '52800',\n",
       " 'channel_description': \"Hi Friends,\\n\\nFor contact us, \\nplease email  : arthipremchannel@gmail.com\\nInstagram id : arthipremkumar\\n\\nFor Garuda Vega and Personal shopping Services , Please contact\\nBalaguru Ramalingam\\nWhatsapp : +91 9688336191\\n\\nThanks for your support of our channel. This space shares the latest US Visa news, Green card news, USA news and discusses a lot of topics related to the USA say Tax returns, Savings, Investments, and much more.\\n\\nSharing is the best thing in the world and yes it's the Goal of our channel too. Share all the things which we know to our people so everyone gets benefits from that. Also, we would encourage everyone to share their thoughts and ideas in the comments section, It would be helpful for many people.\\n\",\n",
       " 'playlist_id': 'UUDjEYBdbvu-1DpWukvNu8vA'}"
      ]
     },
     "execution_count": 50,
     "metadata": {},
     "output_type": "execute_result"
    }
   ],
   "source": [
    "channel_details"
   ]
  },
  {
   "cell_type": "code",
   "execution_count": 40,
   "metadata": {},
   "outputs": [],
   "source": [
    "def get_video_headers(youtube, channel_id):\n",
    "    #channel_id = \"UCDjEYBdbvu-1DpWukvNu8vA\"\n",
    "    vid_ids = []\n",
    "    request = youtube.channels().list(\n",
    "        part=\"contentDetails\",\n",
    "        id=channel_id\n",
    "    )\n",
    "    response = request.execute()\n",
    "    playlist_id=response['items'][0]['contentDetails']['relatedPlaylists']['uploads']\n",
    "\n",
    "    next_page_token = None\n",
    "\n",
    "    while True:\n",
    "        request1 = youtube.playlistItems().list(\n",
    "            part='snippet',\n",
    "            playlistId=playlist_id,\n",
    "            maxResults=50,\n",
    "            pageToken=next_page_token\n",
    "        )\n",
    "        response1 = request1.execute()\n",
    "        for i in range(len(response1['items'])):\n",
    "            vid_ids.append((response1['items'][i]['snippet']['resourceId']['videoId'], response1['items'][i]['snippet']['publishedAt']))\n",
    "        next_page_token=response1.get('nextPageToken')\n",
    "        if next_page_token is None:\n",
    "            break\n",
    "    return vid_ids"
   ]
  },
  {
   "cell_type": "code",
   "execution_count": 41,
   "metadata": {},
   "outputs": [],
   "source": [
    "vid_id_details = get_video_headers(youtube, \"UCDA9RcW2ftEWIh5wS6dkhJA\")"
   ]
  },
  {
   "cell_type": "code",
   "execution_count": 42,
   "metadata": {},
   "outputs": [
    {
     "data": {
      "text/plain": [
       "158"
      ]
     },
     "execution_count": 42,
     "metadata": {},
     "output_type": "execute_result"
    }
   ],
   "source": [
    "len(vid_id_details)"
   ]
  },
  {
   "cell_type": "code",
   "execution_count": 55,
   "metadata": {},
   "outputs": [
    {
     "data": {
      "text/plain": [
       "'UUpSLfHgOlcSBlkxRnMKcnVw'"
      ]
     },
     "execution_count": 55,
     "metadata": {},
     "output_type": "execute_result"
    }
   ],
   "source": [
    "response['items'][0]['contentDetails']['relatedPlaylists']['uploads']"
   ]
  },
  {
   "cell_type": "code",
   "execution_count": 95,
   "metadata": {},
   "outputs": [
    {
     "data": {
      "text/plain": [
       "'2020-07-28T14:15:24Z'"
      ]
     },
     "execution_count": 95,
     "metadata": {},
     "output_type": "execute_result"
    }
   ],
   "source": [
    "response1['items'][2]['snippet']['publishedAt']"
   ]
  },
  {
   "cell_type": "code",
   "execution_count": 105,
   "metadata": {},
   "outputs": [
    {
     "data": {
      "text/plain": [
       "525"
      ]
     },
     "execution_count": 105,
     "metadata": {},
     "output_type": "execute_result"
    }
   ],
   "source": [
    "len(vid_ids)"
   ]
  },
  {
   "cell_type": "code",
   "execution_count": 93,
   "metadata": {},
   "outputs": [],
   "source": [
    "request2 = youtube.playlistItems().list(\n",
    "    part='snippet,id,status',\n",
    "    playlistId=playlist_id,\n",
    "    maxResults=50,\n",
    "    #pageToken=next_page_token\n",
    ")\n",
    "response2 = request2.execute()"
   ]
  },
  {
   "cell_type": "code",
   "execution_count": 106,
   "metadata": {},
   "outputs": [
    {
     "data": {
      "text/plain": [
       "('IgewUMOLyBc', '2023-10-26T13:15:01Z')"
      ]
     },
     "execution_count": 106,
     "metadata": {},
     "output_type": "execute_result"
    }
   ],
   "source": [
    "vid_details[5]"
   ]
  },
  {
   "cell_type": "code",
   "execution_count": null,
   "metadata": {},
   "outputs": [],
   "source": [
    "for vid in vid_id_details:\n",
    "    print(vid[0])"
   ]
  },
  {
   "cell_type": "code",
   "execution_count": 113,
   "metadata": {},
   "outputs": [],
   "source": [
    "#ff5x-aIfhnw\n",
    "vid = \"ff5x-aIfhnw\"\n",
    "request3=youtube.videos().list(\n",
    "    part=\"snippet,contentDetails,statistics\",\n",
    "    id=vid\n",
    ")\n",
    "response3 = request3.execute()"
   ]
  },
  {
   "cell_type": "code",
   "execution_count": 122,
   "metadata": {},
   "outputs": [
    {
     "data": {
      "text/plain": [
       "'213'"
      ]
     },
     "execution_count": 122,
     "metadata": {},
     "output_type": "execute_result"
    }
   ],
   "source": [
    "response3['items'][0]['snippet']['title']\n",
    "response3['items'][0]['snippet']['description']\n",
    "response3['items'][0]['statistics']['viewCount']\n",
    "response3['items'][0]['statistics']['commentCount']"
   ]
  },
  {
   "cell_type": "code",
   "execution_count": 420,
   "metadata": {},
   "outputs": [],
   "source": [
    "def get_video_full_details(youtube,vid_id_details):\n",
    "    video_details = []\n",
    "    for vid in vid_id_details:\n",
    "        request3=youtube.videos().list(\n",
    "            part=\"snippet,contentDetails,statistics\",\n",
    "            id=vid[0]\n",
    "        )\n",
    "        response3 = request3.execute()\n",
    "\n",
    "        for item in response3[\"items\"]:\n",
    "            data = dict(video_title=item['snippet']['title'],\n",
    "                        video_id=item['id'],\n",
    "                        channel_name=item['snippet']['channelTitle'],\n",
    "                        video_description=item['snippet'].get('description'),\n",
    "                        video_tags=item['snippet'].get('tags'),\n",
    "                        video_thumbnail=item['snippet']['thumbnails']['default']['url'],\n",
    "                        video_view_count=item['statistics'].get('viewCount'),\n",
    "                        video_like_count=item['statistics'].get('likeCount'),\n",
    "                        video_dislike_count=item['statistics'].get('dislikeCount'),\n",
    "                        video_comment_count=item['statistics'].get('commentCount'),\n",
    "                        video_favorite_count=item['statistics'].get('favoriteCount'),\n",
    "                        video_publishet_at=item['snippet']['publishedAt'],\n",
    "                        video_duration=item['contentDetails']['duration'],\n",
    "                        video_definition=item['contentDetails']['definition'],\n",
    "                        video_caption=item['contentDetails']['caption'],\n",
    "                        )\n",
    "            video_details.append(data)\n",
    "    return video_details"
   ]
  },
  {
   "cell_type": "code",
   "execution_count": 421,
   "metadata": {},
   "outputs": [],
   "source": [
    "video_full_details = get_video_full_details(youtube,vid_id_details)"
   ]
  },
  {
   "cell_type": "code",
   "execution_count": 423,
   "metadata": {},
   "outputs": [],
   "source": [
    "df =  pd.DataFrame(video_full_details)"
   ]
  },
  {
   "cell_type": "code",
   "execution_count": 429,
   "metadata": {},
   "outputs": [
    {
     "data": {
      "text/html": [
       "<div>\n",
       "<style scoped>\n",
       "    .dataframe tbody tr th:only-of-type {\n",
       "        vertical-align: middle;\n",
       "    }\n",
       "\n",
       "    .dataframe tbody tr th {\n",
       "        vertical-align: top;\n",
       "    }\n",
       "\n",
       "    .dataframe thead th {\n",
       "        text-align: right;\n",
       "    }\n",
       "</style>\n",
       "<table border=\"1\" class=\"dataframe\">\n",
       "  <thead>\n",
       "    <tr style=\"text-align: right;\">\n",
       "      <th></th>\n",
       "      <th>video_title</th>\n",
       "      <th>video_id</th>\n",
       "      <th>channel_name</th>\n",
       "      <th>video_description</th>\n",
       "      <th>video_tags</th>\n",
       "      <th>video_thumbnail</th>\n",
       "      <th>video_view_count</th>\n",
       "      <th>video_like_count</th>\n",
       "      <th>video_dislike_count</th>\n",
       "      <th>video_comment_count</th>\n",
       "      <th>video_favorite_count</th>\n",
       "      <th>video_publishet_at</th>\n",
       "      <th>video_duration</th>\n",
       "      <th>video_definition</th>\n",
       "      <th>video_caption</th>\n",
       "    </tr>\n",
       "  </thead>\n",
       "  <tbody>\n",
       "  </tbody>\n",
       "</table>\n",
       "</div>"
      ],
      "text/plain": [
       "Empty DataFrame\n",
       "Columns: [video_title, video_id, channel_name, video_description, video_tags, video_thumbnail, video_view_count, video_like_count, video_dislike_count, video_comment_count, video_favorite_count, video_publishet_at, video_duration, video_definition, video_caption]\n",
       "Index: []"
      ]
     },
     "metadata": {},
     "output_type": "display_data"
    }
   ],
   "source": [
    "display(df[df.video_dislike_count.notnull()])"
   ]
  },
  {
   "cell_type": "code",
   "execution_count": null,
   "metadata": {},
   "outputs": [],
   "source": [
    "for vid in vid_id_details:\n",
    "    print(vid)"
   ]
  },
  {
   "cell_type": "code",
   "execution_count": 194,
   "metadata": {},
   "outputs": [
    {
     "name": "stdout",
     "output_type": "stream",
     "text": [
      "{'kind': 'youtube#commentThreadListResponse', 'etag': 'oF8qhc9HW9I5B22kiBMEztt1Rlg', 'pageInfo': {'totalResults': 4, 'resultsPerPage': 50}, 'items': [{'kind': 'youtube#commentThread', 'etag': '_NjoWHHl4UbS3jWikpUcU_7gcAA', 'id': 'UgzaNbB8JvIm_Cl5nYJ4AaABAg', 'snippet': {'channelId': 'UCDjEYBdbvu-1DpWukvNu8vA', 'videoId': 'KqVk4lvY1Pg', 'topLevelComment': {'kind': 'youtube#comment', 'etag': 'D0G2JZG6St0EbN-kAUxmoN_h1hs', 'id': 'UgzaNbB8JvIm_Cl5nYJ4AaABAg', 'snippet': {'channelId': 'UCDjEYBdbvu-1DpWukvNu8vA', 'videoId': 'KqVk4lvY1Pg', 'textDisplay': 'Toor or moong dal', 'textOriginal': 'Toor or moong dal', 'authorDisplayName': 'Paj', 'authorProfileImageUrl': 'https://yt3.ggpht.com/ytc/APkrFKZpfYVijbmxXMoAyrgP0suKyhMATbT0SPLN8M-KiyWQn5AfabbMILs8Gmt_q6jG=s48-c-k-c0x00ffffff-no-rj', 'authorChannelUrl': 'http://www.youtube.com/channel/UCqx0Ez-JXBn_WcvcUvE4iFw', 'authorChannelId': {'value': 'UCqx0Ez-JXBn_WcvcUvE4iFw'}, 'canRate': True, 'viewerRating': 'none', 'likeCount': 1, 'publishedAt': '2021-01-28T19:40:36Z', 'updatedAt': '2021-01-28T19:40:36Z'}}, 'canReply': True, 'totalReplyCount': 2, 'isPublic': True}}, {'kind': 'youtube#commentThread', 'etag': '8ugedOKP_Ul5TFWNeD8F8X_w48o', 'id': 'Ugw3sTVXx4xD4zO6BXJ4AaABAg', 'snippet': {'channelId': 'UCDjEYBdbvu-1DpWukvNu8vA', 'videoId': 'KqVk4lvY1Pg', 'topLevelComment': {'kind': 'youtube#comment', 'etag': '_NBMREJdC8Yb4MAl6Kza-AI8MhU', 'id': 'Ugw3sTVXx4xD4zO6BXJ4AaABAg', 'snippet': {'channelId': 'UCDjEYBdbvu-1DpWukvNu8vA', 'videoId': 'KqVk4lvY1Pg', 'textDisplay': 'Super di...yummy😍', 'textOriginal': 'Super di...yummy😍', 'authorDisplayName': 'Meenu Venkat', 'authorProfileImageUrl': 'https://yt3.ggpht.com/ytc/APkrFKYVc80F088hnPas9uCwJ_MSD_u5hlk8UNz2QwNACA=s48-c-k-c0x00ffffff-no-rj', 'authorChannelUrl': 'http://www.youtube.com/channel/UChakD0wYwS2mTi05rfwY4Ng', 'authorChannelId': {'value': 'UChakD0wYwS2mTi05rfwY4Ng'}, 'canRate': True, 'viewerRating': 'none', 'likeCount': 1, 'publishedAt': '2018-08-24T06:34:17Z', 'updatedAt': '2018-08-24T06:34:17Z'}}, 'canReply': True, 'totalReplyCount': 1, 'isPublic': True}}, {'kind': 'youtube#commentThread', 'etag': 'cBhxfv9-OU4wx_FCQAHSAvZ0SeE', 'id': 'Ugwe4CLFeu51cRo-sVF4AaABAg', 'snippet': {'channelId': 'UCDjEYBdbvu-1DpWukvNu8vA', 'videoId': 'KqVk4lvY1Pg', 'topLevelComment': {'kind': 'youtube#comment', 'etag': 'VxsMexbuWgaDPPk7LxjBKjMHxMg', 'id': 'Ugwe4CLFeu51cRo-sVF4AaABAg', 'snippet': {'channelId': 'UCDjEYBdbvu-1DpWukvNu8vA', 'videoId': 'KqVk4lvY1Pg', 'textDisplay': 'Shambar super da', 'textOriginal': 'Shambar super da', 'authorDisplayName': 'SRIPARIMALARENGAN R', 'authorProfileImageUrl': 'https://yt3.ggpht.com/ytc/APkrFKYd9zrx8lLOtPa5zkuhzEpPcS-Z3rOAW5oDTBLCkQ=s48-c-k-c0x00ffffff-no-rj', 'authorChannelUrl': 'http://www.youtube.com/channel/UCHKaBbOJ9dJAxTZGc8BUgIA', 'authorChannelId': {'value': 'UCHKaBbOJ9dJAxTZGc8BUgIA'}, 'canRate': True, 'viewerRating': 'none', 'likeCount': 2, 'publishedAt': '2018-08-22T09:04:08Z', 'updatedAt': '2018-08-22T09:04:08Z'}}, 'canReply': True, 'totalReplyCount': 0, 'isPublic': True}}, {'kind': 'youtube#commentThread', 'etag': 'KGof6LAGNRBbZe0l-N8pRDNeWFI', 'id': 'UgwQbgmmTwC8a5qR9Uh4AaABAg', 'snippet': {'channelId': 'UCDjEYBdbvu-1DpWukvNu8vA', 'videoId': 'KqVk4lvY1Pg', 'topLevelComment': {'kind': 'youtube#comment', 'etag': 'NIGJtTpCbd6IZQVuAbE-oUkusKI', 'id': 'UgwQbgmmTwC8a5qR9Uh4AaABAg', 'snippet': {'channelId': 'UCDjEYBdbvu-1DpWukvNu8vA', 'videoId': 'KqVk4lvY1Pg', 'textDisplay': 'Saravanan  sambar👌👌👌', 'textOriginal': 'Saravanan  sambar👌👌👌', 'authorDisplayName': 'Bala Guru', 'authorProfileImageUrl': 'https://yt3.ggpht.com/ytc/APkrFKZiojt1OBUWbqIyciKRWk_LwRhkU6eLhEa8Xw=s48-c-k-c0x00ffffff-no-rj', 'authorChannelUrl': 'http://www.youtube.com/channel/UCrkYDt-rJM9ff_S-hTpbxAw', 'authorChannelId': {'value': 'UCrkYDt-rJM9ff_S-hTpbxAw'}, 'canRate': True, 'viewerRating': 'none', 'likeCount': 2, 'publishedAt': '2018-08-22T06:42:10Z', 'updatedAt': '2018-08-22T06:42:10Z'}}, 'canReply': True, 'totalReplyCount': 0, 'isPublic': True}}]}\n"
     ]
    }
   ],
   "source": [
    "vid = \"KqVk4lvY1Pg\"\n",
    "request4=youtube.commentThreads().list(\n",
    "    part=\"snippet\",\n",
    "    videoId=vid,\n",
    "    maxResults=50\n",
    ")\n",
    "response4 = request4.execute()\n",
    "print(response4)"
   ]
  },
  {
   "cell_type": "code",
   "execution_count": null,
   "metadata": {},
   "outputs": [],
   "source": [
    "\n",
    "vid_id_details"
   ]
  },
  {
   "cell_type": "code",
   "execution_count": 211,
   "metadata": {},
   "outputs": [
    {
     "data": {
      "text/plain": [
       "'2021-01-28T19:40:36Z'"
      ]
     },
     "execution_count": 211,
     "metadata": {},
     "output_type": "execute_result"
    }
   ],
   "source": [
    "response4['items'][0]['snippet']['topLevelComment']['snippet']['publishedAt']"
   ]
  },
  {
   "cell_type": "code",
   "execution_count": 18,
   "metadata": {},
   "outputs": [],
   "source": [
    "#comments\n",
    "\n",
    "def get_comments_full_details(youtube,vid_id_details):\n",
    "    comment_details = []\n",
    "    try:\n",
    "        for vid in vid_id_details:\n",
    "            request4=youtube.commentThreads().list(\n",
    "                part=\"snippet\",\n",
    "                videoId=vid[0],\n",
    "                maxResults=50\n",
    "            )\n",
    "            response4 = request4.execute()\n",
    "\n",
    "            for item in response4[\"items\"]:\n",
    "                data = dict(comment_id=item['snippet']['topLevelComment']['id'],\n",
    "                            video_id=item['snippet']['topLevelComment']['snippet']['videoId'],\n",
    "                            comment_text=item['snippet']['topLevelComment']['snippet']['textDisplay'],\n",
    "                            comment_author=item['snippet']['topLevelComment']['snippet']['authorDisplayName'],\n",
    "                            comment_published_at=item['snippet']['topLevelComment']['snippet']['publishedAt']\n",
    "                            )\n",
    "                comment_details.append(data)\n",
    "    except:\n",
    "        pass\n",
    "    return comment_details"
   ]
  },
  {
   "cell_type": "code",
   "execution_count": 21,
   "metadata": {},
   "outputs": [],
   "source": [
    "vid_id_details_1 = list(vid_id_details[i] for i in range(15))"
   ]
  },
  {
   "cell_type": "code",
   "execution_count": 43,
   "metadata": {},
   "outputs": [
    {
     "data": {
      "text/plain": [
       "[('aafYAVKMJ24', '2023-11-09T18:22:32Z'),\n",
       " ('bZutDLEO68Y', '2023-11-09T01:30:14Z'),\n",
       " ('BOHgJR3s178', '2023-11-08T20:43:32Z'),\n",
       " ('i1831ur2WeM', '2023-11-08T18:42:23Z'),\n",
       " ('3m_CFW4XIKQ', '2023-11-08T01:30:02Z'),\n",
       " ('7HGP6wrTDa8', '2023-11-07T19:23:16Z'),\n",
       " ('VO1TybI4pGc', '2023-11-07T01:30:17Z'),\n",
       " ('zA1Ox504K0I', '2023-11-06T18:41:40Z'),\n",
       " ('uQVVBy3F-Do', '2023-11-06T01:30:20Z'),\n",
       " ('IDCXXoQwJwc', '2023-11-05T20:09:19Z'),\n",
       " ('XiiNFTYnt50', '2023-11-05T01:30:21Z'),\n",
       " ('jWMQ-jbdm7U', '2023-11-04T19:14:42Z'),\n",
       " ('ZF0wyI3GPdI', '2023-11-04T02:30:16Z'),\n",
       " ('V7TMcuxO6_0', '2023-11-03T20:36:52Z'),\n",
       " ('j3-RYjHf1iE', '2023-11-03T20:08:56Z')]"
      ]
     },
     "execution_count": 43,
     "metadata": {},
     "output_type": "execute_result"
    }
   ],
   "source": [
    "vid_id_details_1"
   ]
  },
  {
   "cell_type": "code",
   "execution_count": 24,
   "metadata": {},
   "outputs": [
    {
     "data": {
      "text/plain": [
       "297"
      ]
     },
     "execution_count": 24,
     "metadata": {},
     "output_type": "execute_result"
    }
   ],
   "source": [
    "len(c_details)"
   ]
  },
  {
   "cell_type": "code",
   "execution_count": null,
   "metadata": {},
   "outputs": [],
   "source": [
    "c_details = get_comments_full_details(youtube,vid_id_details_1)"
   ]
  },
  {
   "cell_type": "code",
   "execution_count": 30,
   "metadata": {},
   "outputs": [],
   "source": [
    "#Adding comments to include nextPageToken\n",
    "\n",
    "def get_comments_full_details(youtube,vid_id_details):\n",
    "    comment_details = []\n",
    "\n",
    "    for vid in vid_id_details:\n",
    "        next_page_token = None\n",
    "        print(vid[0])\n",
    "        print(len(comment_details))\n",
    "        while True:\n",
    "            try:\n",
    "                request4=youtube.commentThreads().list(\n",
    "                    part=\"snippet\",\n",
    "                    videoId=vid[0],\n",
    "                    maxResults=100,\n",
    "                    order=\"time\",\n",
    "                    textFormat=\"plainText\",\n",
    "                    pageToken=next_page_token\n",
    "                )\n",
    "                response4 = request4.execute()\n",
    "\n",
    "                for item in response4[\"items\"]:\n",
    "                    data = dict(comment_id=item['snippet']['topLevelComment']['id'],\n",
    "                                video_id=item['snippet']['topLevelComment']['snippet']['videoId'],\n",
    "                                comment_text=item['snippet']['topLevelComment']['snippet']['textDisplay'],\n",
    "                                comment_author=item['snippet']['topLevelComment']['snippet']['authorDisplayName'],\n",
    "                                comment_published_at=item['snippet']['topLevelComment']['snippet']['publishedAt']\n",
    "                                )\n",
    "                    comment_details.append(data)\n",
    "                if next_page_token is None:\n",
    "                    break\n",
    "            except:\n",
    "                pass\n",
    "    return comment_details"
   ]
  },
  {
   "cell_type": "code",
   "execution_count": 31,
   "metadata": {},
   "outputs": [
    {
     "data": {
      "text/plain": [
       "15"
      ]
     },
     "execution_count": 31,
     "metadata": {},
     "output_type": "execute_result"
    }
   ],
   "source": [
    "len(vid_id_details_1)"
   ]
  },
  {
   "cell_type": "code",
   "execution_count": null,
   "metadata": {},
   "outputs": [],
   "source": [
    "c_details = get_comments_full_details(youtube,vid_id_details)"
   ]
  },
  {
   "cell_type": "code",
   "execution_count": 51,
   "metadata": {},
   "outputs": [],
   "source": [
    "comment_details = []\n",
    "request4=youtube.commentThreads().list(\n",
    "    part=\"snippet\",\n",
    "    videoId=\"VO1TybI4pGc\",\n",
    "    maxResults=25,\n",
    "    order=\"time\",\n",
    "    textFormat=\"plainText\"\n",
    ")\n",
    "response4 = request4.execute()\n",
    "\n",
    "for item in response4[\"items\"]:\n",
    "    data = dict(comment_id=item['snippet']['topLevelComment']['id'],\n",
    "                video_id=item['snippet']['topLevelComment']['snippet']['videoId'],\n",
    "                comment_text=item['snippet']['topLevelComment']['snippet']['textDisplay'],\n",
    "                comment_author=item['snippet']['topLevelComment']['snippet']['authorDisplayName'],\n",
    "                comment_published_at=item['snippet']['topLevelComment']['snippet']['publishedAt']\n",
    "                )\n",
    "    comment_details.append(data)"
   ]
  },
  {
   "cell_type": "code",
   "execution_count": null,
   "metadata": {},
   "outputs": [],
   "source": [
    "comment_details"
   ]
  },
  {
   "cell_type": "code",
   "execution_count": null,
   "metadata": {},
   "outputs": [],
   "source": [
    "j = 1\n",
    "for i in response4[\"items\"]:\n",
    "    print(j)\n",
    "    print(i['snippet']['topLevelComment']['snippet']['textDisplay'])\n",
    "    j+=1"
   ]
  },
  {
   "cell_type": "code",
   "execution_count": 245,
   "metadata": {},
   "outputs": [],
   "source": [
    "#playlists\n",
    "#madan gowri    -   UCY6KjrDBN_tIRFT_QNqQbRQ\n",
    "#prem arthi     -   UCDjEYBdbvu-1DpWukvNu8vA\n",
    "#channel_id = \"UCY6KjrDBN_tIRFT_QNqQbRQ\" \n",
    "\n",
    "def get_playlist_details(youtube, channel_id):\n",
    "    playlist_details = []\n",
    "    next_page_token = None\n",
    "\n",
    "    while True:\n",
    "        request5=youtube.playlists().list(\n",
    "            part=\"snippet,contentDetails\",\n",
    "            channelId=channel_id,\n",
    "            maxResults=50,\n",
    "            pageToken=next_page_token\n",
    "        )\n",
    "        response5 = request5.execute()\n",
    "        #print(response5)\n",
    "\n",
    "        for item in response5['items']:\n",
    "            data = dict(playlist_id=item['id'],\n",
    "                        playlist_title=item['snippet']['title'],\n",
    "                        channel_id=item['snippet']['channelId'],\n",
    "                        channel_name=item['snippet']['channelTitle'],\n",
    "                        published_at=item['snippet']['publishedAt'],\n",
    "                        video_count=item['contentDetails']['itemCount'])\n",
    "            playlist_details.append(data)\n",
    "\n",
    "        next_page_token=response5.get('nextPageToken')\n",
    "        if next_page_token is None:\n",
    "            break\n",
    "\n",
    "    return playlist_details\n"
   ]
  },
  {
   "cell_type": "code",
   "execution_count": 243,
   "metadata": {},
   "outputs": [
    {
     "data": {
      "text/plain": [
       "54"
      ]
     },
     "execution_count": 243,
     "metadata": {},
     "output_type": "execute_result"
    }
   ],
   "source": [
    "len(playlist_details)"
   ]
  },
  {
   "cell_type": "code",
   "execution_count": 246,
   "metadata": {},
   "outputs": [],
   "source": [
    "play_details = get_playlist_details(youtube,\"UCY6KjrDBN_tIRFT_QNqQbRQ\")"
   ]
  },
  {
   "cell_type": "code",
   "execution_count": null,
   "metadata": {},
   "outputs": [],
   "source": [
    "for i in play_details:\n",
    "    print(i)"
   ]
  },
  {
   "cell_type": "code",
   "execution_count": 248,
   "metadata": {},
   "outputs": [],
   "source": [
    "import pymongo"
   ]
  },
  {
   "cell_type": "code",
   "execution_count": 256,
   "metadata": {},
   "outputs": [],
   "source": [
    "client = pymongo.MongoClient(\"mongodb://localhost:27017/\")"
   ]
  },
  {
   "cell_type": "code",
   "execution_count": 257,
   "metadata": {},
   "outputs": [
    {
     "data": {
      "text/plain": [
       "InsertOneResult(ObjectId('654abd030795fe5a5bd61df0'), acknowledged=True)"
      ]
     },
     "execution_count": 257,
     "metadata": {},
     "output_type": "execute_result"
    }
   ],
   "source": [
    "db = client[\"youtubedb\"]\n",
    "coll1 = db[\"channel_details\"]\n",
    "x={\"test\":\"name\",\"year\":2023}\n",
    "coll1.insert_one(x)"
   ]
  },
  {
   "cell_type": "code",
   "execution_count": 369,
   "metadata": {},
   "outputs": [],
   "source": [
    "def load_youtube_details_mongo(api_key, channel_id):\n",
    "    youtube = get_api_connection(api_key)\n",
    "    channel_details = get_channel_details(youtube, channel_id)\n",
    "    print(\"completed channel details\")\n",
    "    playlist_details = get_playlist_details(youtube, channel_id)\n",
    "    print(\"completed playlist details\")\n",
    "    vid_id_details = get_video_headers(youtube, channel_id)\n",
    "    print(\"completed getting video ids details\")\n",
    "    video_full_details = get_video_full_details(youtube,vid_id_details)\n",
    "    print(\"completed videos details\")\n",
    "    comment_details = get_comments_full_details(youtube,vid_id_details)\n",
    "    \n",
    "    coll = db[\"youtube_channel_details\"]\n",
    "    coll.insert_one({\"channel_details\":channel_details,\n",
    "                    \"playlist_details\":playlist_details,\n",
    "                    \"video_details\":video_full_details,\n",
    "                    \"comments_details\":comment_details})\n",
    "\n",
    "    return \"Upload Successfull\"\n",
    "    \n",
    "\n"
   ]
  },
  {
   "cell_type": "code",
   "execution_count": 371,
   "metadata": {},
   "outputs": [
    {
     "name": "stdout",
     "output_type": "stream",
     "text": [
      "completed channel details\n",
      "completed playlist details\n",
      "completed getting video ids details\n",
      "completed videos details\n",
      "Upload Successfull\n"
     ]
    }
   ],
   "source": [
    "api_key = \"***\"\n",
    "#prem arthi channel\n",
    "#channel_id = \"UCDjEYBdbvu-1DpWukvNu8vA\"\n",
    "#ilaya bharatham\n",
    "#channel_id = \"UCpSLfHgOlcSBlkxRnMKcnVw\"\n",
    "#Tamil sage\n",
    "channel_id = \"UCBISwh4nVq6FI_iaXmztUaQ\"\n",
    "#Science with sam\n",
    "#channel_id = \"UChGd9JY4yMegY6PxqpBjpRA\"\n",
    "op = load_youtube_details_mongo(api_key, channel_id)\n",
    "print(op)"
   ]
  },
  {
   "cell_type": "code",
   "execution_count": 53,
   "metadata": {},
   "outputs": [],
   "source": [
    "import mysql.connector"
   ]
  },
  {
   "cell_type": "code",
   "execution_count": 54,
   "metadata": {},
   "outputs": [],
   "source": [
    "def get_mysql_connection():\n",
    "    cnx = mysql.connector.Connect(user=\"root\",password=\"admin\", host=\"127.0.0.1\", database=\"ytube_data\")\n",
    "    return cnx\n",
    "\n"
   ]
  },
  {
   "cell_type": "code",
   "execution_count": 279,
   "metadata": {},
   "outputs": [],
   "source": [
    "cnx = get_mysql_connection()\n",
    "with cnx.cursor() as cursor:\n",
    "    create_channel_query = \"\"\"create table if not exists channels(channel_name varchar(200),\n",
    "                                                                channel_id varchar(100),\n",
    "                                                                channel_custom_url varchar(100),\n",
    "                                                                video_count int,\n",
    "                                                                view_count bigint,\n",
    "                                                                subscriber_count bigint,\n",
    "                                                                channel_description text,\n",
    "                                                                playlist_id varchar(100)\n",
    "                                                                ) \"\"\"\n",
    "    result = cursor.execute(create_channel_query)\n",
    "    #rows = cursor.fetchall()\n",
    "cnx.commit()\n",
    "cnx.close()"
   ]
  },
  {
   "cell_type": "code",
   "execution_count": 284,
   "metadata": {},
   "outputs": [],
   "source": [
    "import pandas as pd"
   ]
  },
  {
   "cell_type": "code",
   "execution_count": 293,
   "metadata": {},
   "outputs": [],
   "source": [
    "client = pymongo.MongoClient(\"mongodb://localhost:27017/\")"
   ]
  },
  {
   "cell_type": "code",
   "execution_count": 302,
   "metadata": {},
   "outputs": [],
   "source": [
    "ch_list = []\n",
    "db = client[\"youtubedb\"]\n",
    "coll1 = db[\"youtube_channel_details\"]\n",
    "for channel in coll1.find({},{\"_id\":0,\"channel_details\":1}):\n",
    "    ch_list.append(channel[\"channel_details\"])\n",
    "ch_df = pd.DataFrame(ch_list)\n"
   ]
  },
  {
   "cell_type": "code",
   "execution_count": 303,
   "metadata": {},
   "outputs": [
    {
     "data": {
      "text/html": [
       "<div>\n",
       "<style scoped>\n",
       "    .dataframe tbody tr th:only-of-type {\n",
       "        vertical-align: middle;\n",
       "    }\n",
       "\n",
       "    .dataframe tbody tr th {\n",
       "        vertical-align: top;\n",
       "    }\n",
       "\n",
       "    .dataframe thead th {\n",
       "        text-align: right;\n",
       "    }\n",
       "</style>\n",
       "<table border=\"1\" class=\"dataframe\">\n",
       "  <thead>\n",
       "    <tr style=\"text-align: right;\">\n",
       "      <th></th>\n",
       "      <th>channel_name</th>\n",
       "      <th>channel_id</th>\n",
       "      <th>channel_custom_url</th>\n",
       "      <th>video_count</th>\n",
       "      <th>view_count</th>\n",
       "      <th>subscriber_count</th>\n",
       "      <th>channel_description</th>\n",
       "      <th>playlist_id</th>\n",
       "    </tr>\n",
       "  </thead>\n",
       "  <tbody>\n",
       "    <tr>\n",
       "      <th>0</th>\n",
       "      <td>Arthi Prem</td>\n",
       "      <td>UCDjEYBdbvu-1DpWukvNu8vA</td>\n",
       "      <td>@arthiprem</td>\n",
       "      <td>524</td>\n",
       "      <td>11707430</td>\n",
       "      <td>52800</td>\n",
       "      <td>Hi Friends,\\n\\nFor contact us, \\nplease email ...</td>\n",
       "      <td>UUDjEYBdbvu-1DpWukvNu8vA</td>\n",
       "    </tr>\n",
       "    <tr>\n",
       "      <th>1</th>\n",
       "      <td>Tamil SAGE</td>\n",
       "      <td>UCBISwh4nVq6FI_iaXmztUaQ</td>\n",
       "      <td>@tamilsage4zekeravi</td>\n",
       "      <td>563</td>\n",
       "      <td>9448173</td>\n",
       "      <td>60000</td>\n",
       "      <td>Spread Nationalism  🧘\\n\\nRoast Anti-Nationalis...</td>\n",
       "      <td>UUBISwh4nVq6FI_iaXmztUaQ</td>\n",
       "    </tr>\n",
       "  </tbody>\n",
       "</table>\n",
       "</div>"
      ],
      "text/plain": [
       "  channel_name                channel_id   channel_custom_url video_count  \\\n",
       "0   Arthi Prem  UCDjEYBdbvu-1DpWukvNu8vA           @arthiprem         524   \n",
       "1   Tamil SAGE  UCBISwh4nVq6FI_iaXmztUaQ  @tamilsage4zekeravi         563   \n",
       "\n",
       "  view_count subscriber_count  \\\n",
       "0   11707430            52800   \n",
       "1    9448173            60000   \n",
       "\n",
       "                                 channel_description               playlist_id  \n",
       "0  Hi Friends,\\n\\nFor contact us, \\nplease email ...  UUDjEYBdbvu-1DpWukvNu8vA  \n",
       "1  Spread Nationalism  🧘\\n\\nRoast Anti-Nationalis...  UUBISwh4nVq6FI_iaXmztUaQ  "
      ]
     },
     "metadata": {},
     "output_type": "display_data"
    }
   ],
   "source": [
    "display(ch_df)"
   ]
  },
  {
   "cell_type": "code",
   "execution_count": 323,
   "metadata": {},
   "outputs": [],
   "source": [
    "def execute_mysql_query(query):\n",
    "    try:\n",
    "        cnx = get_mysql_connection()\n",
    "        with cnx.cursor() as cursor:\n",
    "            result = cursor.execute(query)\n",
    "            #rows = cursor.fetchall()\n",
    "        cnx.commit()\n",
    "        cnx.close()\n",
    "        return \"SUCCESS\"\n",
    "    except:\n",
    "        return \"FAILED\"\n",
    "     "
   ]
  },
  {
   "cell_type": "code",
   "execution_count": 322,
   "metadata": {},
   "outputs": [],
   "source": [
    "\n",
    "def execute_mysql_query_with_values(query, values):\n",
    "    try:\n",
    "        cnx = get_mysql_connection()\n",
    "        with cnx.cursor() as cursor:\n",
    "            result = cursor.execute(query, values)\n",
    "            #rows = cursor.fetchall()\n",
    "        cnx.commit()\n",
    "        cnx.close()\n",
    "        return \"SUCCESS\"\n",
    "    except:\n",
    "        return \"FAILED\"   "
   ]
  },
  {
   "cell_type": "code",
   "execution_count": 310,
   "metadata": {},
   "outputs": [],
   "source": [
    "create_channel_query = \"\"\"create table if not exists channels(channel_name varchar(200),\n",
    "                                                            channel_id varchar(100),\n",
    "                                                            channel_custom_url varchar(100),\n",
    "                                                            video_count int,\n",
    "                                                            view_count bigint,\n",
    "                                                            subscriber_count bigint,\n",
    "                                                            channel_description text,\n",
    "                                                            playlist_id varchar(100)\n",
    "                                                            ) \"\"\"\n",
    "\n",
    "drop_channel_query = \"\"\"drop table if exists channels\"\"\"                                                            \n",
    "op = execute_mysql_query(drop_channel_query)\n",
    "op = execute_mysql_query(create_channel_query)\n"
   ]
  },
  {
   "cell_type": "code",
   "execution_count": 313,
   "metadata": {},
   "outputs": [],
   "source": [
    "def get_data_from_mongo(details):\n",
    "    ch_list = []\n",
    "    db = client[\"youtubedb\"]\n",
    "    coll1 = db[\"youtube_channel_details\"]\n",
    "    for i in coll1.find({},{\"_id\":0,details:1}):\n",
    "        ch_list.append(i[details])\n",
    "    df = pd.DataFrame(ch_list)\n",
    "    return df\n"
   ]
  },
  {
   "cell_type": "code",
   "execution_count": 336,
   "metadata": {},
   "outputs": [],
   "source": [
    "def get_data_from_mongo_with_array(details):\n",
    "    ch_list = []\n",
    "    db = client[\"youtubedb\"]\n",
    "    coll1 = db[\"youtube_channel_details\"]\n",
    "    for data in coll1.find({},{\"_id\":0,details:1}):\n",
    "        for i in range(len(data[details])):\n",
    "            ch_list.append(data[details][i])\n",
    "    df = pd.DataFrame(ch_list)\n",
    "    return df\n"
   ]
  },
  {
   "cell_type": "code",
   "execution_count": 325,
   "metadata": {},
   "outputs": [],
   "source": [
    "def load_channel_to_mysql():\n",
    "    #get channel details from mongo\n",
    "    ch_df = get_data_from_mongo(\"channel_details\")\n",
    "    display(ch_df)\n",
    "\n",
    "    create_channel_query = \"\"\"create table if not exists channels(channel_name varchar(200),\n",
    "                                                                channel_id varchar(100),\n",
    "                                                                channel_custom_url varchar(100),\n",
    "                                                                video_count int,\n",
    "                                                                view_count bigint,\n",
    "                                                                subscriber_count bigint,\n",
    "                                                                channel_description text,\n",
    "                                                                playlist_id varchar(100)\n",
    "                                                                ) \"\"\"\n",
    "\n",
    "    drop_channel_query = \"\"\"drop table if exists channels\"\"\"                                                            \n",
    "    op = execute_mysql_query(drop_channel_query)\n",
    "    op = execute_mysql_query(create_channel_query)\n",
    "\n",
    "    for index, row in ch_df.iterrows():\n",
    "        insert_query=\"\"\"insert into channels (channel_name\n",
    "                                                ,channel_id\n",
    "                                                ,channel_custom_url\n",
    "                                                ,video_count\n",
    "                                                ,view_count\n",
    "                                                ,subscriber_count\n",
    "                                                ,channel_description\n",
    "                                                ,playlist_id\n",
    "                                                ) \n",
    "                                                values(%s, %s, %s, %s, %s, %s, %s, %s)\"\"\"\n",
    "        values=(row['channel_name']\n",
    "                ,row['channel_id']\n",
    "                ,row['channel_custom_url']\n",
    "                ,row['video_count']\n",
    "                ,row['view_count']\n",
    "                ,row['subscriber_count']\n",
    "                ,row['channel_description']\n",
    "                ,row['playlist_id'])\n",
    "        try:\n",
    "            op = execute_mysql_query_with_values(insert_query, values)\n",
    "            print(op)\n",
    "        except:\n",
    "            pass\n",
    "    return \"SUCCESS\"        \n"
   ]
  },
  {
   "cell_type": "code",
   "execution_count": 326,
   "metadata": {},
   "outputs": [
    {
     "data": {
      "text/html": [
       "<div>\n",
       "<style scoped>\n",
       "    .dataframe tbody tr th:only-of-type {\n",
       "        vertical-align: middle;\n",
       "    }\n",
       "\n",
       "    .dataframe tbody tr th {\n",
       "        vertical-align: top;\n",
       "    }\n",
       "\n",
       "    .dataframe thead th {\n",
       "        text-align: right;\n",
       "    }\n",
       "</style>\n",
       "<table border=\"1\" class=\"dataframe\">\n",
       "  <thead>\n",
       "    <tr style=\"text-align: right;\">\n",
       "      <th></th>\n",
       "      <th>channel_name</th>\n",
       "      <th>channel_id</th>\n",
       "      <th>channel_custom_url</th>\n",
       "      <th>video_count</th>\n",
       "      <th>view_count</th>\n",
       "      <th>subscriber_count</th>\n",
       "      <th>channel_description</th>\n",
       "      <th>playlist_id</th>\n",
       "    </tr>\n",
       "  </thead>\n",
       "  <tbody>\n",
       "    <tr>\n",
       "      <th>0</th>\n",
       "      <td>Arthi Prem</td>\n",
       "      <td>UCDjEYBdbvu-1DpWukvNu8vA</td>\n",
       "      <td>@arthiprem</td>\n",
       "      <td>524</td>\n",
       "      <td>11707430</td>\n",
       "      <td>52800</td>\n",
       "      <td>Hi Friends,\\n\\nFor contact us, \\nplease email ...</td>\n",
       "      <td>UUDjEYBdbvu-1DpWukvNu8vA</td>\n",
       "    </tr>\n",
       "    <tr>\n",
       "      <th>1</th>\n",
       "      <td>Tamil SAGE</td>\n",
       "      <td>UCBISwh4nVq6FI_iaXmztUaQ</td>\n",
       "      <td>@tamilsage4zekeravi</td>\n",
       "      <td>563</td>\n",
       "      <td>9448173</td>\n",
       "      <td>60000</td>\n",
       "      <td>Spread Nationalism  🧘\\n\\nRoast Anti-Nationalis...</td>\n",
       "      <td>UUBISwh4nVq6FI_iaXmztUaQ</td>\n",
       "    </tr>\n",
       "  </tbody>\n",
       "</table>\n",
       "</div>"
      ],
      "text/plain": [
       "  channel_name                channel_id   channel_custom_url video_count  \\\n",
       "0   Arthi Prem  UCDjEYBdbvu-1DpWukvNu8vA           @arthiprem         524   \n",
       "1   Tamil SAGE  UCBISwh4nVq6FI_iaXmztUaQ  @tamilsage4zekeravi         563   \n",
       "\n",
       "  view_count subscriber_count  \\\n",
       "0   11707430            52800   \n",
       "1    9448173            60000   \n",
       "\n",
       "                                 channel_description               playlist_id  \n",
       "0  Hi Friends,\\n\\nFor contact us, \\nplease email ...  UUDjEYBdbvu-1DpWukvNu8vA  \n",
       "1  Spread Nationalism  🧘\\n\\nRoast Anti-Nationalis...  UUBISwh4nVq6FI_iaXmztUaQ  "
      ]
     },
     "metadata": {},
     "output_type": "display_data"
    },
    {
     "name": "stdout",
     "output_type": "stream",
     "text": [
      "SUCCESS\n",
      "SUCCESS\n"
     ]
    }
   ],
   "source": [
    "op = load_channel_to_mysql()"
   ]
  },
  {
   "cell_type": "code",
   "execution_count": 327,
   "metadata": {},
   "outputs": [
    {
     "name": "stdout",
     "output_type": "stream",
     "text": [
      "SUCCESS\n"
     ]
    }
   ],
   "source": [
    "def load_channel_to_mysql():\n",
    "    #get channel details from mongo\n",
    "    ch_df = get_data_from_mongo(\"playlist_details\")\n",
    "    display(ch_df)\n",
    "\n",
    "    create_channel_query = \"\"\"create table if not exists channels(channel_name varchar(200),\n",
    "                                                                channel_id varchar(100),\n",
    "                                                                channel_custom_url varchar(100),\n",
    "                                                                video_count int,\n",
    "                                                                view_count bigint,\n",
    "                                                                subscriber_count bigint,\n",
    "                                                                channel_description text,\n",
    "                                                                playlist_id varchar(100)\n",
    "                                                                ) \"\"\"\n",
    "\n",
    "    drop_channel_query = \"\"\"drop table if exists channels\"\"\"                                                            \n",
    "    op = execute_mysql_query(drop_channel_query)\n",
    "    op = execute_mysql_query(create_channel_query)\n",
    "\n",
    "    for index, row in ch_df.iterrows():\n",
    "        insert_query=\"\"\"insert into channels (channel_name\n",
    "                                                ,channel_id\n",
    "                                                ,channel_custom_url\n",
    "                                                ,video_count\n",
    "                                                ,view_count\n",
    "                                                ,subscriber_count\n",
    "                                                ,channel_description\n",
    "                                                ,playlist_id\n",
    "                                                ) \n",
    "                                                values(%s, %s, %s, %s, %s, %s, %s, %s)\"\"\"\n",
    "        values=(row['channel_name']\n",
    "                ,row['channel_id']\n",
    "                ,row['channel_custom_url']\n",
    "                ,row['video_count']\n",
    "                ,row['view_count']\n",
    "                ,row['subscriber_count']\n",
    "                ,row['channel_description']\n",
    "                ,row['playlist_id'])\n",
    "        try:\n",
    "            op = execute_mysql_query_with_values(insert_query, values)\n",
    "            print(op)\n",
    "        except:\n",
    "            pass\n",
    "    return \"SUCCESS\"        \n"
   ]
  },
  {
   "cell_type": "code",
   "execution_count": 330,
   "metadata": {},
   "outputs": [
    {
     "data": {
      "text/html": [
       "<div>\n",
       "<style scoped>\n",
       "    .dataframe tbody tr th:only-of-type {\n",
       "        vertical-align: middle;\n",
       "    }\n",
       "\n",
       "    .dataframe tbody tr th {\n",
       "        vertical-align: top;\n",
       "    }\n",
       "\n",
       "    .dataframe thead th {\n",
       "        text-align: right;\n",
       "    }\n",
       "</style>\n",
       "<table border=\"1\" class=\"dataframe\">\n",
       "  <thead>\n",
       "    <tr style=\"text-align: right;\">\n",
       "      <th></th>\n",
       "      <th>0</th>\n",
       "      <th>1</th>\n",
       "      <th>2</th>\n",
       "      <th>3</th>\n",
       "      <th>4</th>\n",
       "      <th>5</th>\n",
       "      <th>6</th>\n",
       "      <th>7</th>\n",
       "    </tr>\n",
       "  </thead>\n",
       "  <tbody>\n",
       "    <tr>\n",
       "      <th>0</th>\n",
       "      <td>{'playlist_id': 'PL4ZxeUpe7n6NEbZFr_2WVex7O7DY...</td>\n",
       "      <td>{'playlist_id': 'PL4ZxeUpe7n6NMKhQwnL4jCr4_u8C...</td>\n",
       "      <td>{'playlist_id': 'PL4ZxeUpe7n6MIB6TpdE-IgKoK5RG...</td>\n",
       "      <td>{'playlist_id': 'PL4ZxeUpe7n6PwZa1EweBA2Cyr67P...</td>\n",
       "      <td>{'playlist_id': 'PL4ZxeUpe7n6N26PxwCo7EcVSXb0p...</td>\n",
       "      <td>{'playlist_id': 'PL4ZxeUpe7n6OSaLj_tzfaeRewqKr...</td>\n",
       "      <td>{'playlist_id': 'PL4ZxeUpe7n6On1NGJyxjdRAkzY31...</td>\n",
       "      <td>None</td>\n",
       "    </tr>\n",
       "    <tr>\n",
       "      <th>1</th>\n",
       "      <td>{'playlist_id': 'PLJuAhK7b5ZnUKPvcNvyjAn7L1M78...</td>\n",
       "      <td>{'playlist_id': 'PLJuAhK7b5ZnU1tD5PwqoGSFKQsdb...</td>\n",
       "      <td>{'playlist_id': 'PLJuAhK7b5ZnXvDlOx5_mQM5_Th5s...</td>\n",
       "      <td>{'playlist_id': 'PLJuAhK7b5ZnUo7xddugMwQEMkH40...</td>\n",
       "      <td>{'playlist_id': 'PLJuAhK7b5ZnXnwO52uU7xg5A-lxc...</td>\n",
       "      <td>{'playlist_id': 'PLJuAhK7b5ZnV8PK5V3l9sVeG4qO-...</td>\n",
       "      <td>{'playlist_id': 'PLJuAhK7b5ZnWqRXetONakNl4zsRT...</td>\n",
       "      <td>{'playlist_id': 'PLJuAhK7b5ZnXTWmURzpzRVa1NQan...</td>\n",
       "    </tr>\n",
       "  </tbody>\n",
       "</table>\n",
       "</div>"
      ],
      "text/plain": [
       "                                                   0  \\\n",
       "0  {'playlist_id': 'PL4ZxeUpe7n6NEbZFr_2WVex7O7DY...   \n",
       "1  {'playlist_id': 'PLJuAhK7b5ZnUKPvcNvyjAn7L1M78...   \n",
       "\n",
       "                                                   1  \\\n",
       "0  {'playlist_id': 'PL4ZxeUpe7n6NMKhQwnL4jCr4_u8C...   \n",
       "1  {'playlist_id': 'PLJuAhK7b5ZnU1tD5PwqoGSFKQsdb...   \n",
       "\n",
       "                                                   2  \\\n",
       "0  {'playlist_id': 'PL4ZxeUpe7n6MIB6TpdE-IgKoK5RG...   \n",
       "1  {'playlist_id': 'PLJuAhK7b5ZnXvDlOx5_mQM5_Th5s...   \n",
       "\n",
       "                                                   3  \\\n",
       "0  {'playlist_id': 'PL4ZxeUpe7n6PwZa1EweBA2Cyr67P...   \n",
       "1  {'playlist_id': 'PLJuAhK7b5ZnUo7xddugMwQEMkH40...   \n",
       "\n",
       "                                                   4  \\\n",
       "0  {'playlist_id': 'PL4ZxeUpe7n6N26PxwCo7EcVSXb0p...   \n",
       "1  {'playlist_id': 'PLJuAhK7b5ZnXnwO52uU7xg5A-lxc...   \n",
       "\n",
       "                                                   5  \\\n",
       "0  {'playlist_id': 'PL4ZxeUpe7n6OSaLj_tzfaeRewqKr...   \n",
       "1  {'playlist_id': 'PLJuAhK7b5ZnV8PK5V3l9sVeG4qO-...   \n",
       "\n",
       "                                                   6  \\\n",
       "0  {'playlist_id': 'PL4ZxeUpe7n6On1NGJyxjdRAkzY31...   \n",
       "1  {'playlist_id': 'PLJuAhK7b5ZnWqRXetONakNl4zsRT...   \n",
       "\n",
       "                                                   7  \n",
       "0                                               None  \n",
       "1  {'playlist_id': 'PLJuAhK7b5ZnXTWmURzpzRVa1NQan...  "
      ]
     },
     "metadata": {},
     "output_type": "display_data"
    }
   ],
   "source": [
    "    pl_df = get_data_from_mongo(\"playlist_details\")\n",
    "    display(pl_df)"
   ]
  },
  {
   "cell_type": "code",
   "execution_count": 334,
   "metadata": {},
   "outputs": [],
   "source": [
    "pl_list = []\n",
    "db = client[\"youtubedb\"]\n",
    "coll1 = db[\"youtube_channel_details\"]\n",
    "for data in coll1.find({},{\"_id\":0,\"playlist_details\":1}):\n",
    "    for i in range(len(data[\"playlist_details\"])):\n",
    "        pl_list.append(data[\"playlist_details\"][i])\n",
    "df = pd.DataFrame(pl_list)"
   ]
  },
  {
   "cell_type": "code",
   "execution_count": 337,
   "metadata": {},
   "outputs": [],
   "source": [
    "df = get_data_from_mongo_with_array(\"playlist_details\")"
   ]
  },
  {
   "cell_type": "code",
   "execution_count": 341,
   "metadata": {},
   "outputs": [
    {
     "data": {
      "text/html": [
       "<div>\n",
       "<style scoped>\n",
       "    .dataframe tbody tr th:only-of-type {\n",
       "        vertical-align: middle;\n",
       "    }\n",
       "\n",
       "    .dataframe tbody tr th {\n",
       "        vertical-align: top;\n",
       "    }\n",
       "\n",
       "    .dataframe thead th {\n",
       "        text-align: right;\n",
       "    }\n",
       "</style>\n",
       "<table border=\"1\" class=\"dataframe\">\n",
       "  <thead>\n",
       "    <tr style=\"text-align: right;\">\n",
       "      <th></th>\n",
       "      <th>playlist_id</th>\n",
       "      <th>playlist_title</th>\n",
       "      <th>channel_id</th>\n",
       "      <th>channel_name</th>\n",
       "      <th>published_at</th>\n",
       "      <th>video_count</th>\n",
       "    </tr>\n",
       "  </thead>\n",
       "  <tbody>\n",
       "    <tr>\n",
       "      <th>0</th>\n",
       "      <td>PL4ZxeUpe7n6NEbZFr_2WVex7O7DYmzDOf</td>\n",
       "      <td>ArthiPrem_NewJersey_Videos</td>\n",
       "      <td>UCDjEYBdbvu-1DpWukvNu8vA</td>\n",
       "      <td>Arthi Prem</td>\n",
       "      <td>2023-05-25T08:43:14Z</td>\n",
       "      <td>11</td>\n",
       "    </tr>\n",
       "    <tr>\n",
       "      <th>1</th>\n",
       "      <td>PL4ZxeUpe7n6NMKhQwnL4jCr4_u8C2jOLi</td>\n",
       "      <td>USA Temple Videos</td>\n",
       "      <td>UCDjEYBdbvu-1DpWukvNu8vA</td>\n",
       "      <td>Arthi Prem</td>\n",
       "      <td>2023-02-08T22:34:56Z</td>\n",
       "      <td>7</td>\n",
       "    </tr>\n",
       "    <tr>\n",
       "      <th>2</th>\n",
       "      <td>PL4ZxeUpe7n6MIB6TpdE-IgKoK5RGRm-eh</td>\n",
       "      <td>ArthiPrem_Houston_Videos</td>\n",
       "      <td>UCDjEYBdbvu-1DpWukvNu8vA</td>\n",
       "      <td>Arthi Prem</td>\n",
       "      <td>2023-01-30T07:05:07Z</td>\n",
       "      <td>8</td>\n",
       "    </tr>\n",
       "    <tr>\n",
       "      <th>3</th>\n",
       "      <td>PL4ZxeUpe7n6PwZa1EweBA2Cyr67P0POWi</td>\n",
       "      <td>USA_VISA_Updates</td>\n",
       "      <td>UCDjEYBdbvu-1DpWukvNu8vA</td>\n",
       "      <td>Arthi Prem</td>\n",
       "      <td>2023-01-09T03:52:53Z</td>\n",
       "      <td>50</td>\n",
       "    </tr>\n",
       "    <tr>\n",
       "      <th>4</th>\n",
       "      <td>PL4ZxeUpe7n6N26PxwCo7EcVSXb0pKxKvQ</td>\n",
       "      <td>Top10USATamil</td>\n",
       "      <td>UCDjEYBdbvu-1DpWukvNu8vA</td>\n",
       "      <td>Arthi Prem</td>\n",
       "      <td>2022-12-31T08:04:08Z</td>\n",
       "      <td>4</td>\n",
       "    </tr>\n",
       "    <tr>\n",
       "      <th>5</th>\n",
       "      <td>PL4ZxeUpe7n6OSaLj_tzfaeRewqKriWfWl</td>\n",
       "      <td>Recession2023</td>\n",
       "      <td>UCDjEYBdbvu-1DpWukvNu8vA</td>\n",
       "      <td>Arthi Prem</td>\n",
       "      <td>2022-12-15T03:14:11Z</td>\n",
       "      <td>31</td>\n",
       "    </tr>\n",
       "    <tr>\n",
       "      <th>6</th>\n",
       "      <td>PL4ZxeUpe7n6On1NGJyxjdRAkzY31n5H5U</td>\n",
       "      <td>Arthi Prem videos</td>\n",
       "      <td>UCDjEYBdbvu-1DpWukvNu8vA</td>\n",
       "      <td>Arthi Prem</td>\n",
       "      <td>2019-05-21T18:49:03Z</td>\n",
       "      <td>431</td>\n",
       "    </tr>\n",
       "    <tr>\n",
       "      <th>7</th>\n",
       "      <td>PLJuAhK7b5ZnUKPvcNvyjAn7L1M78Q1BoA</td>\n",
       "      <td>Nupur Sharma Issue</td>\n",
       "      <td>UCBISwh4nVq6FI_iaXmztUaQ</td>\n",
       "      <td>Tamil SAGE</td>\n",
       "      <td>2022-07-06T18:19:15Z</td>\n",
       "      <td>15</td>\n",
       "    </tr>\n",
       "    <tr>\n",
       "      <th>8</th>\n",
       "      <td>PLJuAhK7b5ZnU1tD5PwqoGSFKQsdbkKHC6</td>\n",
       "      <td>பாயசம்</td>\n",
       "      <td>UCBISwh4nVq6FI_iaXmztUaQ</td>\n",
       "      <td>Tamil SAGE</td>\n",
       "      <td>2022-02-25T12:21:46Z</td>\n",
       "      <td>9</td>\n",
       "    </tr>\n",
       "    <tr>\n",
       "      <th>9</th>\n",
       "      <td>PLJuAhK7b5ZnXvDlOx5_mQM5_Th5s7XO3i</td>\n",
       "      <td>Zeke Ravi Shorts</td>\n",
       "      <td>UCBISwh4nVq6FI_iaXmztUaQ</td>\n",
       "      <td>Tamil SAGE</td>\n",
       "      <td>2021-11-27T08:33:11Z</td>\n",
       "      <td>36</td>\n",
       "    </tr>\n",
       "    <tr>\n",
       "      <th>10</th>\n",
       "      <td>PLJuAhK7b5ZnUo7xddugMwQEMkH40i2vCa</td>\n",
       "      <td>Aryan Invasion</td>\n",
       "      <td>UCBISwh4nVq6FI_iaXmztUaQ</td>\n",
       "      <td>Tamil SAGE</td>\n",
       "      <td>2021-11-23T18:41:46Z</td>\n",
       "      <td>3</td>\n",
       "    </tr>\n",
       "    <tr>\n",
       "      <th>11</th>\n",
       "      <td>PLJuAhK7b5ZnXnwO52uU7xg5A-lxc-9auj</td>\n",
       "      <td>Subramanian Swamy Special</td>\n",
       "      <td>UCBISwh4nVq6FI_iaXmztUaQ</td>\n",
       "      <td>Tamil SAGE</td>\n",
       "      <td>2021-11-07T06:36:34Z</td>\n",
       "      <td>0</td>\n",
       "    </tr>\n",
       "    <tr>\n",
       "      <th>12</th>\n",
       "      <td>PLJuAhK7b5ZnV8PK5V3l9sVeG4qO-ytWq6</td>\n",
       "      <td>இன்னும் என்ன நீ பைத்தியக்காரனாவே நெனச்சிட்டு இ...</td>\n",
       "      <td>UCBISwh4nVq6FI_iaXmztUaQ</td>\n",
       "      <td>Tamil SAGE</td>\n",
       "      <td>2021-11-07T06:35:20Z</td>\n",
       "      <td>0</td>\n",
       "    </tr>\n",
       "    <tr>\n",
       "      <th>13</th>\n",
       "      <td>PLJuAhK7b5ZnWqRXetONakNl4zsRTQQ7Z9</td>\n",
       "      <td>Mughals Series</td>\n",
       "      <td>UCBISwh4nVq6FI_iaXmztUaQ</td>\n",
       "      <td>Tamil SAGE</td>\n",
       "      <td>2021-09-20T18:30:36Z</td>\n",
       "      <td>7</td>\n",
       "    </tr>\n",
       "    <tr>\n",
       "      <th>14</th>\n",
       "      <td>PLJuAhK7b5ZnXTWmURzpzRVa1NQan4CoOz</td>\n",
       "      <td>Sultan Series</td>\n",
       "      <td>UCBISwh4nVq6FI_iaXmztUaQ</td>\n",
       "      <td>Tamil SAGE</td>\n",
       "      <td>2021-09-20T18:28:24Z</td>\n",
       "      <td>2</td>\n",
       "    </tr>\n",
       "  </tbody>\n",
       "</table>\n",
       "</div>"
      ],
      "text/plain": [
       "                           playlist_id  \\\n",
       "0   PL4ZxeUpe7n6NEbZFr_2WVex7O7DYmzDOf   \n",
       "1   PL4ZxeUpe7n6NMKhQwnL4jCr4_u8C2jOLi   \n",
       "2   PL4ZxeUpe7n6MIB6TpdE-IgKoK5RGRm-eh   \n",
       "3   PL4ZxeUpe7n6PwZa1EweBA2Cyr67P0POWi   \n",
       "4   PL4ZxeUpe7n6N26PxwCo7EcVSXb0pKxKvQ   \n",
       "5   PL4ZxeUpe7n6OSaLj_tzfaeRewqKriWfWl   \n",
       "6   PL4ZxeUpe7n6On1NGJyxjdRAkzY31n5H5U   \n",
       "7   PLJuAhK7b5ZnUKPvcNvyjAn7L1M78Q1BoA   \n",
       "8   PLJuAhK7b5ZnU1tD5PwqoGSFKQsdbkKHC6   \n",
       "9   PLJuAhK7b5ZnXvDlOx5_mQM5_Th5s7XO3i   \n",
       "10  PLJuAhK7b5ZnUo7xddugMwQEMkH40i2vCa   \n",
       "11  PLJuAhK7b5ZnXnwO52uU7xg5A-lxc-9auj   \n",
       "12  PLJuAhK7b5ZnV8PK5V3l9sVeG4qO-ytWq6   \n",
       "13  PLJuAhK7b5ZnWqRXetONakNl4zsRTQQ7Z9   \n",
       "14  PLJuAhK7b5ZnXTWmURzpzRVa1NQan4CoOz   \n",
       "\n",
       "                                       playlist_title  \\\n",
       "0                          ArthiPrem_NewJersey_Videos   \n",
       "1                                   USA Temple Videos   \n",
       "2                            ArthiPrem_Houston_Videos   \n",
       "3                                    USA_VISA_Updates   \n",
       "4                                       Top10USATamil   \n",
       "5                                       Recession2023   \n",
       "6                                   Arthi Prem videos   \n",
       "7                                  Nupur Sharma Issue   \n",
       "8                                              பாயசம்   \n",
       "9                                    Zeke Ravi Shorts   \n",
       "10                                     Aryan Invasion   \n",
       "11                          Subramanian Swamy Special   \n",
       "12  இன்னும் என்ன நீ பைத்தியக்காரனாவே நெனச்சிட்டு இ...   \n",
       "13                                     Mughals Series   \n",
       "14                                      Sultan Series   \n",
       "\n",
       "                  channel_id channel_name          published_at  video_count  \n",
       "0   UCDjEYBdbvu-1DpWukvNu8vA   Arthi Prem  2023-05-25T08:43:14Z           11  \n",
       "1   UCDjEYBdbvu-1DpWukvNu8vA   Arthi Prem  2023-02-08T22:34:56Z            7  \n",
       "2   UCDjEYBdbvu-1DpWukvNu8vA   Arthi Prem  2023-01-30T07:05:07Z            8  \n",
       "3   UCDjEYBdbvu-1DpWukvNu8vA   Arthi Prem  2023-01-09T03:52:53Z           50  \n",
       "4   UCDjEYBdbvu-1DpWukvNu8vA   Arthi Prem  2022-12-31T08:04:08Z            4  \n",
       "5   UCDjEYBdbvu-1DpWukvNu8vA   Arthi Prem  2022-12-15T03:14:11Z           31  \n",
       "6   UCDjEYBdbvu-1DpWukvNu8vA   Arthi Prem  2019-05-21T18:49:03Z          431  \n",
       "7   UCBISwh4nVq6FI_iaXmztUaQ   Tamil SAGE  2022-07-06T18:19:15Z           15  \n",
       "8   UCBISwh4nVq6FI_iaXmztUaQ   Tamil SAGE  2022-02-25T12:21:46Z            9  \n",
       "9   UCBISwh4nVq6FI_iaXmztUaQ   Tamil SAGE  2021-11-27T08:33:11Z           36  \n",
       "10  UCBISwh4nVq6FI_iaXmztUaQ   Tamil SAGE  2021-11-23T18:41:46Z            3  \n",
       "11  UCBISwh4nVq6FI_iaXmztUaQ   Tamil SAGE  2021-11-07T06:36:34Z            0  \n",
       "12  UCBISwh4nVq6FI_iaXmztUaQ   Tamil SAGE  2021-11-07T06:35:20Z            0  \n",
       "13  UCBISwh4nVq6FI_iaXmztUaQ   Tamil SAGE  2021-09-20T18:30:36Z            7  \n",
       "14  UCBISwh4nVq6FI_iaXmztUaQ   Tamil SAGE  2021-09-20T18:28:24Z            2  "
      ]
     },
     "execution_count": 341,
     "metadata": {},
     "output_type": "execute_result"
    }
   ],
   "source": [
    "df"
   ]
  },
  {
   "cell_type": "code",
   "execution_count": 342,
   "metadata": {},
   "outputs": [],
   "source": [
    "def load_playlist_to_mysql():\n",
    "    #get channel details from mongo\n",
    "    ch_df = get_data_from_mongo_with_array(\"playlist_details\")\n",
    "    display(ch_df)\n",
    "\n",
    "    drop_query = \"\"\"drop table if exists playlist\"\"\"    \n",
    "    create_query = \"\"\"create table if not exists playlist(playlist_id varchar(100),\n",
    "                                                                playlist_title varchar(200),\n",
    "                                                                channel_id varchar(100),\n",
    "                                                                channel_name varchar(200),\n",
    "                                                                published_at varchar(50),\n",
    "                                                                video_count int\n",
    "                                                                ) \"\"\"\n",
    "\n",
    "    op = execute_mysql_query(drop_query)\n",
    "    op = execute_mysql_query(create_query)\n",
    "\n",
    "    for index, row in ch_df.iterrows():\n",
    "        insert_query=\"\"\"insert into playlist (playlist_id\n",
    "                                                ,playlist_title\n",
    "                                                ,channel_id\n",
    "                                                ,channel_name\n",
    "                                                ,published_at\n",
    "                                                ,video_count\n",
    "                                                ) \n",
    "                                                values(%s, %s, %s, %s, %s, %s)\"\"\"\n",
    "        values=(row['playlist_id']\n",
    "                ,row['playlist_title']\n",
    "                ,row['channel_id']\n",
    "                ,row['channel_name']\n",
    "                ,row['published_at']\n",
    "                ,row['video_count'])\n",
    "        try:\n",
    "            op = execute_mysql_query_with_values(insert_query, values)\n",
    "            print(op)\n",
    "        except:\n",
    "            pass\n",
    "    return \"SUCCESS\"    "
   ]
  },
  {
   "cell_type": "code",
   "execution_count": null,
   "metadata": {},
   "outputs": [],
   "source": [
    "op = load_playlist_to_mysql()"
   ]
  },
  {
   "cell_type": "code",
   "execution_count": null,
   "metadata": {},
   "outputs": [],
   "source": [
    "    ch_df = get_data_from_mongo_with_array(\"video_details\")\n",
    "    display(ch_df)"
   ]
  },
  {
   "cell_type": "code",
   "execution_count": 373,
   "metadata": {},
   "outputs": [
    {
     "name": "stdout",
     "output_type": "stream",
     "text": [
      "video_title,\n",
      "video_id,\n",
      "channel_name,\n",
      "video_description,\n",
      "video_tags,\n",
      "video_thumbnail,\n",
      "video_view_count,\n",
      "video_like_count,\n",
      "video_comment_count,\n",
      "video_favorite_count,\n",
      "video_publishet_at,\n",
      "video_duration,\n",
      "video_definition,\n",
      "video_caption,\n"
     ]
    }
   ],
   "source": [
    "for i in ch_df.columns:\n",
    "    print(i + \",\")"
   ]
  },
  {
   "cell_type": "code",
   "execution_count": null,
   "metadata": {},
   "outputs": [],
   "source": [
    "ch_df"
   ]
  },
  {
   "cell_type": "code",
   "execution_count": 383,
   "metadata": {},
   "outputs": [],
   "source": [
    "def load_videos_to_mysql():\n",
    "    #get channel details from mongo\n",
    "    ch_df = get_data_from_mongo_with_array(\"video_details\")\n",
    "    display(ch_df)\n",
    "\n",
    "    drop_query = \"\"\"drop table if exists videos\"\"\"    \n",
    "    create_query = \"\"\"create table if not exists videos(video_title varchar(200),\n",
    "                                                        video_id varchar(100),\n",
    "                                                        channel_name varchar(200),\n",
    "                                                        video_description text,\n",
    "                                                        video_tags text,\n",
    "                                                        video_thumbnail text,\n",
    "                                                        video_view_count bigint,\n",
    "                                                        video_like_count bigint,\n",
    "                                                        video_comment_count bigint,\n",
    "                                                        video_favorite_count bigint,\n",
    "                                                        video_publishet_at  varchar(50),\n",
    "                                                        video_duration  varchar(100),\n",
    "                                                        video_definition  varchar(100),\n",
    "                                                        video_caption  varchar(200)\n",
    "                                                                ) \"\"\"\n",
    "\n",
    "    op = execute_mysql_query(drop_query)\n",
    "    op = execute_mysql_query(create_query)\n",
    "\n",
    "    for index, row in ch_df.iterrows():\n",
    "        insert_query=\"\"\"insert into videos (video_title,\n",
    "                                            video_id,\n",
    "                                            channel_name,\n",
    "                                            video_description,\n",
    "                                            video_thumbnail,\n",
    "                                            video_view_count,\n",
    "                                            video_like_count,\n",
    "                                            video_comment_count,\n",
    "                                            video_favorite_count,\n",
    "                                            video_publishet_at,\n",
    "                                            video_duration,\n",
    "                                            video_definition,\n",
    "                                            video_caption\n",
    "                                            ) \n",
    "                                            values(%s, %s, %s, %s, %s, %s, %s, %s, %s, %s, %s, %s, %s)\"\"\"\n",
    "        values=(\n",
    "                row['video_title'],\n",
    "                row['video_id'],\n",
    "                row['channel_name'],\n",
    "                row['video_description'],\n",
    "                row['video_thumbnail'],\n",
    "                row['video_view_count'],\n",
    "                row['video_like_count'],\n",
    "                row['video_comment_count'],\n",
    "                row['video_favorite_count'],\n",
    "                row['video_publishet_at'],\n",
    "                row['video_duration'],\n",
    "                row['video_definition'],\n",
    "                row['video_caption'])\n",
    "        try:\n",
    "            op = execute_mysql_query_with_values(insert_query, values)\n",
    "            if op == \"FAILED\":\n",
    "                print(insert_query)\n",
    "                print(values)\n",
    "                #break\n",
    "        except:\n",
    "            return \"FAILED\"\n",
    "    return \"SUCCESS\"    "
   ]
  },
  {
   "cell_type": "code",
   "execution_count": null,
   "metadata": {},
   "outputs": [],
   "source": [
    "op = load_videos_to_mysql()"
   ]
  },
  {
   "cell_type": "code",
   "execution_count": null,
   "metadata": {},
   "outputs": [],
   "source": [
    "    ch_df = get_data_from_mongo_with_array(\"comments_details\")\n",
    "    display(ch_df)"
   ]
  },
  {
   "cell_type": "code",
   "execution_count": 387,
   "metadata": {},
   "outputs": [
    {
     "name": "stdout",
     "output_type": "stream",
     "text": [
      "comment_id, \n",
      "video_id, \n",
      "comment_text, \n",
      "comment_author, \n",
      "comment_published_at, \n"
     ]
    }
   ],
   "source": [
    "for i in ch_df.columns:\n",
    "    print(i+\", \")"
   ]
  },
  {
   "cell_type": "code",
   "execution_count": 393,
   "metadata": {},
   "outputs": [],
   "source": [
    "def load_comments_to_mysql():\n",
    "    #get comments details from mongo\n",
    "    ch_df = get_data_from_mongo_with_array(\"comments_details\")\n",
    "    display(ch_df)\n",
    "\n",
    "    drop_query = \"\"\"drop table if exists comments\"\"\"    \n",
    "    create_query = \"\"\"create table if not exists comments(comment_id varchar(100), \n",
    "                                                            video_id varchar(100), \n",
    "                                                            comment_text text, \n",
    "                                                            comment_author varchar(200), \n",
    "                                                            comment_published_at varchar(50)\n",
    "                                                                ) \"\"\"\n",
    "\n",
    "    op = execute_mysql_query(drop_query)\n",
    "    op = execute_mysql_query(create_query)\n",
    "\n",
    "    for index, row in ch_df.iterrows():\n",
    "        insert_query=\"\"\"insert into comments (comment_id, \n",
    "                                            video_id, \n",
    "                                            comment_text, \n",
    "                                            comment_author, \n",
    "                                            comment_published_at\n",
    "                                            ) \n",
    "                                            values(%s, %s, %s, %s, %s)\"\"\"\n",
    "        values=(\n",
    "                row['comment_id'], \n",
    "                row['video_id'], \n",
    "                row['comment_text'], \n",
    "                row['comment_author'], \n",
    "                row['comment_published_at'])\n",
    "        try:\n",
    "            op = execute_mysql_query_with_values(insert_query, values)\n",
    "            if op == \"FAILED\":\n",
    "                print(insert_query)\n",
    "                print(values)\n",
    "                break\n",
    "        except:\n",
    "            return \"FAILED\"\n",
    "    return \"SUCCESS\"    "
   ]
  },
  {
   "cell_type": "code",
   "execution_count": null,
   "metadata": {},
   "outputs": [],
   "source": [
    "op = load_playlist_to_mysql()"
   ]
  },
  {
   "cell_type": "code",
   "execution_count": 398,
   "metadata": {},
   "outputs": [],
   "source": [
    "import streamlit as st"
   ]
  },
  {
   "cell_type": "code",
   "execution_count": 405,
   "metadata": {},
   "outputs": [],
   "source": [
    "def show_data_from_mongo(details):\n",
    "    ch_list = []\n",
    "    db = client[\"youtubedb\"]\n",
    "    coll1 = db[\"youtube_channel_details\"]\n",
    "    for i in coll1.find({},{\"_id\":0,details:1}):\n",
    "        ch_list.append(i[details])\n",
    "    df = st.dataframe(ch_list)\n",
    "    return df\n"
   ]
  },
  {
   "cell_type": "code",
   "execution_count": 406,
   "metadata": {},
   "outputs": [],
   "source": [
    "def show_data_from_mongo_with_array(details):\n",
    "    ch_list = []\n",
    "    db = client[\"youtubedb\"]\n",
    "    coll1 = db[\"youtube_channel_details\"]\n",
    "    for data in coll1.find({},{\"_id\":0,details:1}):\n",
    "        for i in range(len(data[details])):\n",
    "            ch_list.append(data[details][i])\n",
    "    df = st.dataframe(ch_list)\n",
    "    return df\n"
   ]
  },
  {
   "cell_type": "code",
   "execution_count": 408,
   "metadata": {},
   "outputs": [],
   "source": [
    "ch_df = show_data_from_mongo(\"channel_details\")\n"
   ]
  },
  {
   "cell_type": "code",
   "execution_count": 411,
   "metadata": {},
   "outputs": [
    {
     "data": {
      "text/plain": [
       "DeltaGenerator()"
      ]
     },
     "execution_count": 411,
     "metadata": {},
     "output_type": "execute_result"
    }
   ],
   "source": [
    "import streamlit as st\n",
    "\n",
    "st.title(\"Youtube Data Analysis\")\n",
    "\n",
    "#st.write(ch_df)"
   ]
  },
  {
   "cell_type": "code",
   "execution_count": 57,
   "metadata": {},
   "outputs": [],
   "source": [
    "def get_data_from_mysql(query):\n",
    "    try:\n",
    "        cnx = get_mysql_connection()\n",
    "        df = pd.read_sql(query, cnx)\n",
    "        cnx.close()\n",
    "        return df\n",
    "    except:\n",
    "        return \"FAILED\""
   ]
  },
  {
   "cell_type": "code",
   "execution_count": 58,
   "metadata": {},
   "outputs": [
    {
     "data": {
      "text/plain": [
       "'FAILED'"
      ]
     },
     "metadata": {},
     "output_type": "display_data"
    }
   ],
   "source": [
    "query = \"\"\"select question_id, question_name from questions;\"\"\"\n",
    "qn_df = get_data_from_mysql(query)\n",
    "display(qn_df)"
   ]
  },
  {
   "cell_type": "code",
   "execution_count": 59,
   "metadata": {},
   "outputs": [
    {
     "data": {
      "text/plain": [
       "'FAILED'"
      ]
     },
     "metadata": {},
     "output_type": "display_data"
    }
   ],
   "source": [
    "query = \"\"\"select channel_name, channel_id from channels;\"\"\"\n",
    "chn_df = get_data_from_mysql(query)\n",
    "display(chn_df)"
   ]
  },
  {
   "cell_type": "code",
   "execution_count": 419,
   "metadata": {},
   "outputs": [
    {
     "data": {
      "text/plain": [
       "['Science With Sam - அறிவியல் அறிவோம் !', 'Tamil SAGE', 'Data Science Tamil']"
      ]
     },
     "execution_count": 419,
     "metadata": {},
     "output_type": "execute_result"
    }
   ],
   "source": [
    "chn_df['channel_name'].values.tolist()"
   ]
  },
  {
   "cell_type": "code",
   "execution_count": 443,
   "metadata": {},
   "outputs": [
    {
     "name": "stderr",
     "output_type": "stream",
     "text": [
      "C:\\Users\\kanna\\AppData\\Local\\Temp\\ipykernel_2940\\3182324083.py:4: UserWarning: pandas only supports SQLAlchemy connectable (engine/connection) or database string URI or sqlite3 DBAPI2 connection. Other DBAPI2 objects are not tested. Please consider using SQLAlchemy.\n",
      "  df = pd.read_sql(query, cnx)\n"
     ]
    }
   ],
   "source": [
    "df = get_data_from_mysql(\"select * from channels where channel_id = 'UCdtF71y294PYS9_GZ3y2lmw';\")"
   ]
  },
  {
   "cell_type": "code",
   "execution_count": 444,
   "metadata": {},
   "outputs": [
    {
     "data": {
      "text/plain": [
       "1"
      ]
     },
     "execution_count": 444,
     "metadata": {},
     "output_type": "execute_result"
    }
   ],
   "source": [
    "len(df.index)"
   ]
  }
 ],
 "metadata": {
  "kernelspec": {
   "display_name": ".venv",
   "language": "python",
   "name": "python3"
  },
  "language_info": {
   "codemirror_mode": {
    "name": "ipython",
    "version": 3
   },
   "file_extension": ".py",
   "mimetype": "text/x-python",
   "name": "python",
   "nbconvert_exporter": "python",
   "pygments_lexer": "ipython3",
   "version": "3.11.5"
  }
 },
 "nbformat": 4,
 "nbformat_minor": 2
}
